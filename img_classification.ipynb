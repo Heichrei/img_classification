{
  "cells": [
    {
      "cell_type": "code",
      "execution_count": 11,
      "metadata": {
        "id": "Rys2p3soWFXn"
      },
      "outputs": [],
      "source": [
        "import pandas as pd\n",
        "import numpy as np\n",
        "import matplotlib.pyplot as plt\n",
        "import tensorflow as tf\n",
        "from tensorflow import keras\n",
        "from tensorflow.keras.preprocessing import image"
      ]
    },
    {
      "cell_type": "code",
      "execution_count": 2,
      "metadata": {
        "colab": {
          "base_uri": "https://localhost:8080/"
        },
        "id": "V59AM1pzwh-b",
        "outputId": "96684199-3b29-4922-ea66-8eab4a2e7218"
      },
      "outputs": [
        {
          "output_type": "stream",
          "name": "stdout",
          "text": [
            "Looking in indexes: https://pypi.org/simple, https://us-python.pkg.dev/colab-wheels/public/simple/\n",
            "Requirement already satisfied: pyyaml in /usr/local/lib/python3.9/dist-packages (6.0)\n",
            "Requirement already satisfied: h5py in /usr/local/lib/python3.9/dist-packages (3.8.0)\n",
            "Requirement already satisfied: numpy>=1.14.5 in /usr/local/lib/python3.9/dist-packages (from h5py) (1.22.4)\n"
          ]
        }
      ],
      "source": [
        "!pip install pyyaml h5py "
      ]
    },
    {
      "cell_type": "code",
      "execution_count": 3,
      "metadata": {
        "colab": {
          "base_uri": "https://localhost:8080/"
        },
        "id": "1V0ItYMSWPBH",
        "outputId": "f30ea723-fd57-4112-b4d6-7dfaf90bd34d"
      },
      "outputs": [
        {
          "output_type": "stream",
          "name": "stdout",
          "text": [
            "Mounted at /content/gdrive\n"
          ]
        }
      ],
      "source": [
        "from google.colab import drive\n",
        "drive.mount('/content/gdrive', force_remount=True)"
      ]
    },
    {
      "cell_type": "code",
      "execution_count": 21,
      "metadata": {
        "colab": {
          "base_uri": "https://localhost:8080/",
          "height": 134
        },
        "id": "qoBPZzjGWgYi",
        "outputId": "1028e413-1eaa-4e98-c1b6-1b954829d680"
      },
      "outputs": [
        {
          "output_type": "error",
          "ename": "SyntaxError",
          "evalue": "ignored",
          "traceback": [
            "\u001b[0;36m  File \u001b[0;32m\"<ipython-input-21-ea0faf57347a>\"\u001b[0;36m, line \u001b[0;32m19\u001b[0m\n\u001b[0;31m    print(len(or.listdir(test_img_dir)))\u001b[0m\n\u001b[0m              ^\u001b[0m\n\u001b[0;31mSyntaxError\u001b[0m\u001b[0;31m:\u001b[0m invalid syntax\n"
          ]
        }
      ],
      "source": [
        "import os\n",
        "\n",
        "home_dir = '/content/gdrive/MyDrive/Colab Notebooks/image_classification/'\n",
        "\n",
        "train_img_dir = os.path.join(home_dir,'images/images')\n",
        "test_img_dir = os.path.join(home_dir,'test/test/classify')\n",
        "val_img_dir = os.path.join(home_dir,'validation/validation')\n",
        "\n",
        "architecture_dir = os.path.join(train_img_dir, 'architecture')\n",
        "art_culture_dir = os.path.join(train_img_dir, 'art and culture')\n",
        "foods_drinks_dir = os.path.join(train_img_dir, 'foods and drinks')\n",
        "travel_adv_dir = os.path.join(train_img_dir, 'travel and adventure')\n",
        "\n",
        "print(f'Architecture Imgs: {len(os.listdir(architecture_dir))}')\n",
        "print(f'Art and Culture Imgs: {len(os.listdir(art_culture_dir))}')\n",
        "print(f'Foods and Drinks Imgs: {len(os.listdir(foods_drinks_dir))}')\n",
        "print(f'Travel and Adventure Imgs: {len(os.listdir(travel_adv_dir))}')\n",
        "\n"
      ]
    },
    {
      "cell_type": "code",
      "source": [
        "print(len(os.listdir(test_img_dir)))"
      ],
      "metadata": {
        "colab": {
          "base_uri": "https://localhost:8080/"
        },
        "id": "tWfr3tjR-DN6",
        "outputId": "c30279a5-68b1-4902-b5de-bff4e3fa7b59"
      },
      "execution_count": 22,
      "outputs": [
        {
          "output_type": "stream",
          "name": "stdout",
          "text": [
            "10\n"
          ]
        }
      ]
    },
    {
      "cell_type": "code",
      "execution_count": 19,
      "metadata": {
        "colab": {
          "base_uri": "https://localhost:8080/"
        },
        "id": "gn7UJJ73gJbX",
        "outputId": "3c0f30d8-31f1-4fd1-f0f8-e23fb91edacf"
      },
      "outputs": [
        {
          "output_type": "stream",
          "name": "stdout",
          "text": [
            "Found 35318 images belonging to 4 classes.\n",
            "Found 122 images belonging to 4 classes.\n",
            "Found 0 images belonging to 0 classes.\n"
          ]
        }
      ],
      "source": [
        "from tensorflow.keras.preprocessing.image import ImageDataGenerator\n",
        "\n",
        "training_datagen = ImageDataGenerator(\n",
        "      rescale = 1./255,\n",
        "\t    rotation_range=40,\n",
        "      width_shift_range=0.2,\n",
        "      height_shift_range=0.2,\n",
        "      shear_range=0.2,\n",
        "      zoom_range=0.2,\n",
        "      horizontal_flip=True,\n",
        "      fill_mode='nearest')\n",
        "\n",
        "validation_datagen = ImageDataGenerator(\n",
        "      rescale = 1./255,\n",
        "\t    rotation_range=40,\n",
        "      width_shift_range=0.2,\n",
        "      height_shift_range=0.2,\n",
        "      shear_range=0.2,\n",
        "      zoom_range=0.2,\n",
        "      horizontal_flip=True,\n",
        "      fill_mode='nearest')\n",
        "\n",
        "test_datagen = ImageDataGenerator(\n",
        "      rescale = 1./255,\n",
        "\t    rotation_range=40,\n",
        "      width_shift_range=0.2,\n",
        "      height_shift_range=0.2,\n",
        "      shear_range=0.2,\n",
        "      zoom_range=0.2,\n",
        "      horizontal_flip=True,\n",
        "      fill_mode='nearest')\n",
        "\n",
        "train_generator = training_datagen.flow_from_directory(\n",
        "\ttrain_img_dir,\n",
        "\ttarget_size=(256,256),\n",
        "\tclass_mode='categorical',\n",
        "  batch_size=176\n",
        ")\n",
        "\n",
        "validation_generator = validation_datagen.flow_from_directory(\n",
        "\tval_img_dir,\n",
        "\ttarget_size=(256,256),\n",
        "\tclass_mode='categorical',\n",
        "  batch_size=176\n",
        ")\n",
        "\n",
        "test_generator = test_datagen.flow_from_directory(\n",
        "\ttest_img_dir,\n",
        "\ttarget_size=(256,256),\n",
        "\tclass_mode='categorical',\n",
        "  batch_size=176\n",
        ")\n"
      ]
    },
    {
      "cell_type": "code",
      "execution_count": 6,
      "metadata": {
        "colab": {
          "base_uri": "https://localhost:8080/"
        },
        "id": "CjbS864a1nQ-",
        "outputId": "87ffa733-d3a7-4455-8cdf-79e7ee472455"
      },
      "outputs": [
        {
          "output_type": "stream",
          "name": "stdout",
          "text": [
            "Model: \"sequential\"\n",
            "_________________________________________________________________\n",
            " Layer (type)                Output Shape              Param #   \n",
            "=================================================================\n",
            " conv2d (Conv2D)             (None, 254, 254, 64)      1792      \n",
            "                                                                 \n",
            " max_pooling2d (MaxPooling2D  (None, 127, 127, 64)     0         \n",
            " )                                                               \n",
            "                                                                 \n",
            " conv2d_1 (Conv2D)           (None, 125, 125, 64)      36928     \n",
            "                                                                 \n",
            " max_pooling2d_1 (MaxPooling  (None, 62, 62, 64)       0         \n",
            " 2D)                                                             \n",
            "                                                                 \n",
            " conv2d_2 (Conv2D)           (None, 60, 60, 128)       73856     \n",
            "                                                                 \n",
            " max_pooling2d_2 (MaxPooling  (None, 30, 30, 128)      0         \n",
            " 2D)                                                             \n",
            "                                                                 \n",
            " conv2d_3 (Conv2D)           (None, 28, 28, 128)       147584    \n",
            "                                                                 \n",
            " max_pooling2d_3 (MaxPooling  (None, 14, 14, 128)      0         \n",
            " 2D)                                                             \n",
            "                                                                 \n",
            " flatten (Flatten)           (None, 25088)             0         \n",
            "                                                                 \n",
            " dense (Dense)               (None, 256)               6422784   \n",
            "                                                                 \n",
            " dense_1 (Dense)             (None, 128)               32896     \n",
            "                                                                 \n",
            " dense_2 (Dense)             (None, 4)                 516       \n",
            "                                                                 \n",
            "=================================================================\n",
            "Total params: 6,716,356\n",
            "Trainable params: 6,716,356\n",
            "Non-trainable params: 0\n",
            "_________________________________________________________________\n"
          ]
        }
      ],
      "source": [
        "def create_model():\n",
        "  model = tf.keras.models.Sequential([\n",
        "    tf.keras.layers.Conv2D(64, (3,3), activation='relu', input_shape=(256, 256, 3)),\n",
        "    tf.keras.layers.MaxPooling2D(2, 2),\n",
        "\n",
        "    tf.keras.layers.Conv2D(64, (3,3), activation='relu'),\n",
        "    tf.keras.layers.MaxPooling2D(2,2),\n",
        "\n",
        "    tf.keras.layers.Conv2D(128, (3,3), activation='relu'),\n",
        "    tf.keras.layers.MaxPooling2D(2,2),\n",
        "\n",
        "    tf.keras.layers.Conv2D(128, (3,3), activation='relu'),\n",
        "    tf.keras.layers.MaxPooling2D(2,2),\n",
        "\n",
        "    tf.keras.layers.Flatten(),\n",
        "    #tf.keras.layers.Dropout(0.5),\n",
        "  \n",
        "    tf.keras.layers.Dense(256, activation='relu'),\n",
        "    tf.keras.layers.Dense(128, activation='relu'),\n",
        "    tf.keras.layers.Dense(4, activation='softmax')\n",
        "])\n",
        "\n",
        "  model.compile(loss = 'categorical_crossentropy', optimizer='rmsprop', metrics=['accuracy'])\n",
        "\n",
        "  return model\n",
        "\n",
        "model = create_model()\n",
        "model.summary()\n"
      ]
    },
    {
      "cell_type": "code",
      "source": [
        "checkpoint_dir = os.path.join(home_dir,\"model_img_classifier.ckpt\")\n",
        "\n",
        "cp_callback = tf.keras.callbacks.ModelCheckpoint(filepath=checkpoint_dir,\n",
        "                                                 save_weights_only=True,\n",
        "                                                 verbose=1)\n",
        "\n",
        "model.fit(train_generator, \n",
        "          epochs=30, \n",
        "          steps_per_epoch=15, \n",
        "          validation_data = validation_generator, \n",
        "          verbose = 1,\n",
        "          callbacks=[cp_callback])\n",
        "\n",
        "model.save_weights(f'{home_dir}/img_classifier.h5', overwrite=True)"
      ],
      "metadata": {
        "colab": {
          "base_uri": "https://localhost:8080/"
        },
        "id": "uDzdyzodheur",
        "outputId": "af26f239-4db8-4936-ea48-f26a1b15bd93"
      },
      "execution_count": 11,
      "outputs": [
        {
          "output_type": "stream",
          "name": "stdout",
          "text": [
            "Epoch 1/30\n",
            " 6/15 [===========>..................] - ETA: 4:43 - loss: 1.5859 - accuracy: 0.2462"
          ]
        },
        {
          "output_type": "stream",
          "name": "stderr",
          "text": [
            "/usr/local/lib/python3.9/dist-packages/PIL/Image.py:975: UserWarning: Palette images with Transparency expressed in bytes should be converted to RGBA images\n",
            "  warnings.warn(\n"
          ]
        },
        {
          "output_type": "stream",
          "name": "stdout",
          "text": [
            "15/15 [==============================] - ETA: 0s - loss: 1.4692 - accuracy: 0.2659 \n",
            "Epoch 1: saving model to /content/gdrive/MyDrive/Colab Notebooks/image_classification/model_img_classifier.ckpt\n",
            "15/15 [==============================] - 562s 36s/step - loss: 1.4692 - accuracy: 0.2659 - val_loss: 1.3835 - val_accuracy: 0.2459\n",
            "Epoch 2/30\n",
            "15/15 [==============================] - ETA: 0s - loss: 1.4108 - accuracy: 0.3277 \n",
            "Epoch 2: saving model to /content/gdrive/MyDrive/Colab Notebooks/image_classification/model_img_classifier.ckpt\n",
            "15/15 [==============================] - 487s 32s/step - loss: 1.4108 - accuracy: 0.3277 - val_loss: 1.3648 - val_accuracy: 0.2377\n",
            "Epoch 3/30\n",
            "15/15 [==============================] - ETA: 0s - loss: 1.3188 - accuracy: 0.3652 \n",
            "Epoch 3: saving model to /content/gdrive/MyDrive/Colab Notebooks/image_classification/model_img_classifier.ckpt\n",
            "15/15 [==============================] - 447s 30s/step - loss: 1.3188 - accuracy: 0.3652 - val_loss: 1.2904 - val_accuracy: 0.4590\n",
            "Epoch 4/30\n",
            "15/15 [==============================] - ETA: 0s - loss: 1.2946 - accuracy: 0.3777 \n",
            "Epoch 4: saving model to /content/gdrive/MyDrive/Colab Notebooks/image_classification/model_img_classifier.ckpt\n",
            "15/15 [==============================] - 405s 27s/step - loss: 1.2946 - accuracy: 0.3777 - val_loss: 1.6518 - val_accuracy: 0.2049\n",
            "Epoch 5/30\n",
            "15/15 [==============================] - ETA: 0s - loss: 1.2824 - accuracy: 0.4027 \n",
            "Epoch 5: saving model to /content/gdrive/MyDrive/Colab Notebooks/image_classification/model_img_classifier.ckpt\n",
            "15/15 [==============================] - 378s 25s/step - loss: 1.2824 - accuracy: 0.4027 - val_loss: 1.2686 - val_accuracy: 0.3689\n",
            "Epoch 6/30\n",
            "15/15 [==============================] - ETA: 0s - loss: 1.2329 - accuracy: 0.4004 \n",
            "Epoch 6: saving model to /content/gdrive/MyDrive/Colab Notebooks/image_classification/model_img_classifier.ckpt\n",
            "15/15 [==============================] - 352s 23s/step - loss: 1.2329 - accuracy: 0.4004 - val_loss: 1.2333 - val_accuracy: 0.3525\n",
            "Epoch 7/30\n",
            "15/15 [==============================] - ETA: 0s - loss: 1.2598 - accuracy: 0.4102 \n",
            "Epoch 7: saving model to /content/gdrive/MyDrive/Colab Notebooks/image_classification/model_img_classifier.ckpt\n",
            "15/15 [==============================] - 329s 22s/step - loss: 1.2598 - accuracy: 0.4102 - val_loss: 1.2213 - val_accuracy: 0.5082\n",
            "Epoch 8/30\n"
          ]
        },
        {
          "output_type": "stream",
          "name": "stderr",
          "text": [
            "/usr/local/lib/python3.9/dist-packages/PIL/TiffImagePlugin.py:819: UserWarning: Corrupt EXIF data.  Expecting to read 4 bytes but only got 0. \n",
            "  warnings.warn(str(msg))\n"
          ]
        },
        {
          "output_type": "stream",
          "name": "stdout",
          "text": [
            "15/15 [==============================] - ETA: 0s - loss: 1.1864 - accuracy: 0.4578 \n",
            "Epoch 8: saving model to /content/gdrive/MyDrive/Colab Notebooks/image_classification/model_img_classifier.ckpt\n",
            "15/15 [==============================] - 306s 20s/step - loss: 1.1864 - accuracy: 0.4578 - val_loss: 1.2564 - val_accuracy: 0.3852\n",
            "Epoch 9/30\n",
            "15/15 [==============================] - ETA: 0s - loss: 1.2187 - accuracy: 0.4261 \n",
            "Epoch 9: saving model to /content/gdrive/MyDrive/Colab Notebooks/image_classification/model_img_classifier.ckpt\n",
            "15/15 [==============================] - 292s 19s/step - loss: 1.2187 - accuracy: 0.4261 - val_loss: 1.2544 - val_accuracy: 0.4180\n",
            "Epoch 10/30\n",
            "15/15 [==============================] - ETA: 0s - loss: 1.1791 - accuracy: 0.4648 \n",
            "Epoch 10: saving model to /content/gdrive/MyDrive/Colab Notebooks/image_classification/model_img_classifier.ckpt\n",
            "15/15 [==============================] - 258s 17s/step - loss: 1.1791 - accuracy: 0.4648 - val_loss: 1.2749 - val_accuracy: 0.3115\n",
            "Epoch 11/30\n",
            "15/15 [==============================] - ETA: 0s - loss: 1.1439 - accuracy: 0.5008 \n",
            "Epoch 11: saving model to /content/gdrive/MyDrive/Colab Notebooks/image_classification/model_img_classifier.ckpt\n",
            "15/15 [==============================] - 252s 17s/step - loss: 1.1439 - accuracy: 0.5008 - val_loss: 1.1943 - val_accuracy: 0.4672\n",
            "Epoch 12/30\n",
            "15/15 [==============================] - ETA: 0s - loss: 1.1327 - accuracy: 0.5046 \n",
            "Epoch 12: saving model to /content/gdrive/MyDrive/Colab Notebooks/image_classification/model_img_classifier.ckpt\n",
            "15/15 [==============================] - 229s 15s/step - loss: 1.1327 - accuracy: 0.5046 - val_loss: 1.1381 - val_accuracy: 0.5656\n",
            "Epoch 13/30\n",
            "15/15 [==============================] - ETA: 0s - loss: 1.2204 - accuracy: 0.4640 \n",
            "Epoch 13: saving model to /content/gdrive/MyDrive/Colab Notebooks/image_classification/model_img_classifier.ckpt\n",
            "15/15 [==============================] - 221s 15s/step - loss: 1.2204 - accuracy: 0.4640 - val_loss: 1.1811 - val_accuracy: 0.4262\n",
            "Epoch 14/30\n",
            "15/15 [==============================] - ETA: 0s - loss: 1.1305 - accuracy: 0.4996 \n",
            "Epoch 14: saving model to /content/gdrive/MyDrive/Colab Notebooks/image_classification/model_img_classifier.ckpt\n",
            "15/15 [==============================] - 211s 14s/step - loss: 1.1305 - accuracy: 0.4996 - val_loss: 1.1635 - val_accuracy: 0.5574\n",
            "Epoch 15/30\n",
            "15/15 [==============================] - ETA: 0s - loss: 1.0685 - accuracy: 0.5311 \n",
            "Epoch 15: saving model to /content/gdrive/MyDrive/Colab Notebooks/image_classification/model_img_classifier.ckpt\n",
            "15/15 [==============================] - 201s 13s/step - loss: 1.0685 - accuracy: 0.5311 - val_loss: 1.1928 - val_accuracy: 0.4262\n",
            "Epoch 16/30\n",
            "15/15 [==============================] - ETA: 0s - loss: 1.1341 - accuracy: 0.5106 \n",
            "Epoch 16: saving model to /content/gdrive/MyDrive/Colab Notebooks/image_classification/model_img_classifier.ckpt\n",
            "15/15 [==============================] - 195s 13s/step - loss: 1.1341 - accuracy: 0.5106 - val_loss: 1.1735 - val_accuracy: 0.3770\n",
            "Epoch 17/30\n",
            "15/15 [==============================] - ETA: 0s - loss: 1.0608 - accuracy: 0.5413 \n",
            "Epoch 17: saving model to /content/gdrive/MyDrive/Colab Notebooks/image_classification/model_img_classifier.ckpt\n",
            "15/15 [==============================] - 171s 11s/step - loss: 1.0608 - accuracy: 0.5413 - val_loss: 1.1309 - val_accuracy: 0.5000\n",
            "Epoch 18/30\n",
            "15/15 [==============================] - ETA: 0s - loss: 1.0840 - accuracy: 0.5352 \n",
            "Epoch 18: saving model to /content/gdrive/MyDrive/Colab Notebooks/image_classification/model_img_classifier.ckpt\n",
            "15/15 [==============================] - 172s 11s/step - loss: 1.0840 - accuracy: 0.5352 - val_loss: 1.1935 - val_accuracy: 0.4836\n",
            "Epoch 19/30\n",
            "15/15 [==============================] - ETA: 0s - loss: 1.0903 - accuracy: 0.5534 \n",
            "Epoch 19: saving model to /content/gdrive/MyDrive/Colab Notebooks/image_classification/model_img_classifier.ckpt\n",
            "15/15 [==============================] - 168s 11s/step - loss: 1.0903 - accuracy: 0.5534 - val_loss: 1.1162 - val_accuracy: 0.4754\n",
            "Epoch 20/30\n",
            "15/15 [==============================] - ETA: 0s - loss: 1.0745 - accuracy: 0.5254\n",
            "Epoch 20: saving model to /content/gdrive/MyDrive/Colab Notebooks/image_classification/model_img_classifier.ckpt\n",
            "15/15 [==============================] - 152s 10s/step - loss: 1.0745 - accuracy: 0.5254 - val_loss: 1.1829 - val_accuracy: 0.3689\n",
            "Epoch 21/30\n",
            "15/15 [==============================] - ETA: 0s - loss: 1.0713 - accuracy: 0.5367\n",
            "Epoch 21: saving model to /content/gdrive/MyDrive/Colab Notebooks/image_classification/model_img_classifier.ckpt\n",
            "15/15 [==============================] - 150s 10s/step - loss: 1.0713 - accuracy: 0.5367 - val_loss: 1.2594 - val_accuracy: 0.4754\n",
            "Epoch 22/30\n",
            "15/15 [==============================] - ETA: 0s - loss: 1.0343 - accuracy: 0.5617\n",
            "Epoch 22: saving model to /content/gdrive/MyDrive/Colab Notebooks/image_classification/model_img_classifier.ckpt\n",
            "15/15 [==============================] - 143s 9s/step - loss: 1.0343 - accuracy: 0.5617 - val_loss: 1.0536 - val_accuracy: 0.4754\n",
            "Epoch 23/30\n",
            "15/15 [==============================] - ETA: 0s - loss: 1.0746 - accuracy: 0.5598\n",
            "Epoch 23: saving model to /content/gdrive/MyDrive/Colab Notebooks/image_classification/model_img_classifier.ckpt\n",
            "15/15 [==============================] - 127s 8s/step - loss: 1.0746 - accuracy: 0.5598 - val_loss: 1.1246 - val_accuracy: 0.5164\n",
            "Epoch 24/30\n",
            "15/15 [==============================] - ETA: 0s - loss: 1.0286 - accuracy: 0.5652\n",
            "Epoch 24: saving model to /content/gdrive/MyDrive/Colab Notebooks/image_classification/model_img_classifier.ckpt\n",
            "15/15 [==============================] - 131s 9s/step - loss: 1.0286 - accuracy: 0.5652 - val_loss: 0.9972 - val_accuracy: 0.5820\n",
            "Epoch 25/30\n",
            "15/15 [==============================] - ETA: 0s - loss: 1.0214 - accuracy: 0.5689\n",
            "Epoch 25: saving model to /content/gdrive/MyDrive/Colab Notebooks/image_classification/model_img_classifier.ckpt\n",
            "15/15 [==============================] - 122s 8s/step - loss: 1.0214 - accuracy: 0.5689 - val_loss: 0.9831 - val_accuracy: 0.6803\n",
            "Epoch 26/30\n",
            "15/15 [==============================] - ETA: 0s - loss: 1.0556 - accuracy: 0.5451\n",
            "Epoch 26: saving model to /content/gdrive/MyDrive/Colab Notebooks/image_classification/model_img_classifier.ckpt\n",
            "15/15 [==============================] - 118s 8s/step - loss: 1.0556 - accuracy: 0.5451 - val_loss: 1.0907 - val_accuracy: 0.5820\n",
            "Epoch 27/30\n",
            "15/15 [==============================] - ETA: 0s - loss: 0.9496 - accuracy: 0.6110\n",
            "Epoch 27: saving model to /content/gdrive/MyDrive/Colab Notebooks/image_classification/model_img_classifier.ckpt\n",
            "15/15 [==============================] - 112s 7s/step - loss: 0.9496 - accuracy: 0.6110 - val_loss: 1.1125 - val_accuracy: 0.6230\n",
            "Epoch 28/30\n",
            "15/15 [==============================] - ETA: 0s - loss: 0.9927 - accuracy: 0.5867\n",
            "Epoch 28: saving model to /content/gdrive/MyDrive/Colab Notebooks/image_classification/model_img_classifier.ckpt\n",
            "15/15 [==============================] - 106s 7s/step - loss: 0.9927 - accuracy: 0.5867 - val_loss: 0.9902 - val_accuracy: 0.5902\n",
            "Epoch 29/30\n",
            "15/15 [==============================] - ETA: 0s - loss: 0.9526 - accuracy: 0.6045\n",
            "Epoch 29: saving model to /content/gdrive/MyDrive/Colab Notebooks/image_classification/model_img_classifier.ckpt\n",
            "15/15 [==============================] - 103s 7s/step - loss: 0.9526 - accuracy: 0.6045 - val_loss: 1.1188 - val_accuracy: 0.5738\n",
            "Epoch 30/30\n",
            "15/15 [==============================] - ETA: 0s - loss: 0.9684 - accuracy: 0.6057\n",
            "Epoch 30: saving model to /content/gdrive/MyDrive/Colab Notebooks/image_classification/model_img_classifier.ckpt\n",
            "15/15 [==============================] - 103s 7s/step - loss: 0.9684 - accuracy: 0.6057 - val_loss: 0.9449 - val_accuracy: 0.6557\n"
          ]
        }
      ]
    },
    {
      "cell_type": "code",
      "source": [
        "#Retraining the model as it seems the model could be better if retrained for some other epochs\n",
        "\n",
        "new_model = create_model()\n",
        "new_model.load_weights(f'{home_dir}/img_classifier.h5')\n",
        "\n",
        "checkpoint_dir = os.path.join(home_dir,\"new_model_img_classifier.ckpt\")\n",
        "\n",
        "cp_callback = tf.keras.callbacks.ModelCheckpoint(filepath=checkpoint_dir,\n",
        "                                                 save_weights_only=False,\n",
        "                                                 verbose=1)\n",
        "\n",
        "new_model = new_model.fit(train_generator, \n",
        "          epochs=30, \n",
        "          steps_per_epoch=15, \n",
        "          validation_data = validation_generator, \n",
        "          verbose = 1,\n",
        "          callbacks=[cp_callback])\n",
        "\n",
        "new_model.save_model(f'{home_dir}/new_img_classifier.h5', overwrite=True)"
      ],
      "metadata": {
        "colab": {
          "base_uri": "https://localhost:8080/",
          "height": 1000
        },
        "id": "Tuac38TXF90z",
        "outputId": "21df69f9-92c3-483b-84da-c2ac02e59f33"
      },
      "execution_count": 28,
      "outputs": [
        {
          "output_type": "stream",
          "name": "stdout",
          "text": [
            "Epoch 1/30\n",
            " 1/15 [=>............................] - ETA: 2:23 - loss: 1.0760 - accuracy: 0.5398"
          ]
        },
        {
          "output_type": "stream",
          "name": "stderr",
          "text": [
            "/usr/local/lib/python3.9/dist-packages/PIL/Image.py:975: UserWarning: Palette images with Transparency expressed in bytes should be converted to RGBA images\n",
            "  warnings.warn(\n"
          ]
        },
        {
          "output_type": "stream",
          "name": "stdout",
          "text": [
            "15/15 [==============================] - ETA: 0s - loss: 1.1715 - accuracy: 0.5265\n",
            "Epoch 1: saving model to /content/gdrive/MyDrive/Colab Notebooks/image_classification/new_model_img_classifier.ckpt\n"
          ]
        },
        {
          "output_type": "stream",
          "name": "stderr",
          "text": [
            "WARNING:absl:Found untraced functions such as _jit_compiled_convolution_op, _jit_compiled_convolution_op, _jit_compiled_convolution_op, _jit_compiled_convolution_op while saving (showing 4 of 4). These functions will not be directly callable after loading.\n"
          ]
        },
        {
          "output_type": "stream",
          "name": "stdout",
          "text": [
            "\b\b\b\b\b\b\b\b\b\b\b\b\b\b\b\b\b\b\b\b\b\b\b\b\b\b\b\b\b\b\b\b\b\b\b\b\b\b\b\b\b\b\b\b\b\b\b\b\b\b\b\b\b\b\b\b\b\b\b\b\b\b\b\b\b\b\b\b\b\b\b\b\b\b\b\b\b\b\b\b\b\b\r15/15 [==============================] - 116s 8s/step - loss: 1.1715 - accuracy: 0.5265 - val_loss: 0.8405 - val_accuracy: 0.7049\n",
            "Epoch 2/30\n",
            " 4/15 [=======>......................] - ETA: 1:08 - loss: 0.9695 - accuracy: 0.5952"
          ]
        },
        {
          "output_type": "stream",
          "name": "stderr",
          "text": [
            "/usr/local/lib/python3.9/dist-packages/PIL/Image.py:975: UserWarning: Palette images with Transparency expressed in bytes should be converted to RGBA images\n",
            "  warnings.warn(\n"
          ]
        },
        {
          "output_type": "stream",
          "name": "stdout",
          "text": [
            "15/15 [==============================] - ETA: 0s - loss: 0.9506 - accuracy: 0.6080"
          ]
        },
        {
          "output_type": "stream",
          "name": "stderr",
          "text": [
            "/usr/local/lib/python3.9/dist-packages/PIL/TiffImagePlugin.py:819: UserWarning: Corrupt EXIF data.  Expecting to read 4 bytes but only got 0. \n",
            "  warnings.warn(str(msg))\n"
          ]
        },
        {
          "output_type": "stream",
          "name": "stdout",
          "text": [
            "\n",
            "Epoch 2: saving model to /content/gdrive/MyDrive/Colab Notebooks/image_classification/new_model_img_classifier.ckpt\n"
          ]
        },
        {
          "output_type": "stream",
          "name": "stderr",
          "text": [
            "WARNING:absl:Found untraced functions such as _jit_compiled_convolution_op, _jit_compiled_convolution_op, _jit_compiled_convolution_op, _jit_compiled_convolution_op while saving (showing 4 of 4). These functions will not be directly callable after loading.\n"
          ]
        },
        {
          "output_type": "stream",
          "name": "stdout",
          "text": [
            "\b\b\b\b\b\b\b\b\b\b\b\b\b\b\b\b\b\b\b\b\b\b\b\b\b\b\b\b\b\b\b\b\b\b\b\b\b\b\b\b\b\b\b\b\b\b\b\b\b\b\b\b\b\b\b\b\b\b\b\b\b\b\b\b\b\b\b\b\b\b\b\b\b\b\b\b\b\b\b\b\b\b\r15/15 [==============================] - 102s 7s/step - loss: 0.9506 - accuracy: 0.6080 - val_loss: 0.8557 - val_accuracy: 0.6639\n",
            "Epoch 3/30\n",
            " 1/15 [=>............................] - ETA: 1:12 - loss: 0.9151 - accuracy: 0.6193"
          ]
        },
        {
          "output_type": "stream",
          "name": "stderr",
          "text": [
            "/usr/local/lib/python3.9/dist-packages/PIL/Image.py:975: UserWarning: Palette images with Transparency expressed in bytes should be converted to RGBA images\n",
            "  warnings.warn(\n"
          ]
        },
        {
          "output_type": "stream",
          "name": "stdout",
          "text": [
            "15/15 [==============================] - ETA: 0s - loss: 0.9396 - accuracy: 0.6273\n",
            "Epoch 3: saving model to /content/gdrive/MyDrive/Colab Notebooks/image_classification/new_model_img_classifier.ckpt\n"
          ]
        },
        {
          "output_type": "stream",
          "name": "stderr",
          "text": [
            "WARNING:absl:Found untraced functions such as _jit_compiled_convolution_op, _jit_compiled_convolution_op, _jit_compiled_convolution_op, _jit_compiled_convolution_op while saving (showing 4 of 4). These functions will not be directly callable after loading.\n"
          ]
        },
        {
          "output_type": "stream",
          "name": "stdout",
          "text": [
            "\b\b\b\b\b\b\b\b\b\b\b\b\b\b\b\b\b\b\b\b\b\b\b\b\b\b\b\b\b\b\b\b\b\b\b\b\b\b\b\b\b\b\b\b\b\b\b\b\b\b\b\b\b\b\b\b\b\b\b\b\b\b\b\b\b\b\b\b\b\b\b\b\b\b\b\b\b\b\b\b\b\b\r15/15 [==============================] - 96s 6s/step - loss: 0.9396 - accuracy: 0.6273 - val_loss: 0.9524 - val_accuracy: 0.6721\n",
            "Epoch 4/30\n",
            "15/15 [==============================] - ETA: 0s - loss: 0.9299 - accuracy: 0.6193\n",
            "Epoch 4: saving model to /content/gdrive/MyDrive/Colab Notebooks/image_classification/new_model_img_classifier.ckpt\n"
          ]
        },
        {
          "output_type": "stream",
          "name": "stderr",
          "text": [
            "WARNING:absl:Found untraced functions such as _jit_compiled_convolution_op, _jit_compiled_convolution_op, _jit_compiled_convolution_op, _jit_compiled_convolution_op while saving (showing 4 of 4). These functions will not be directly callable after loading.\n"
          ]
        },
        {
          "output_type": "stream",
          "name": "stdout",
          "text": [
            "\b\b\b\b\b\b\b\b\b\b\b\b\b\b\b\b\b\b\b\b\b\b\b\b\b\b\b\b\b\b\b\b\b\b\b\b\b\b\b\b\b\b\b\b\b\b\b\b\b\b\b\b\b\b\b\b\b\b\b\b\b\b\b\b\b\b\b\b\b\b\b\b\b\b\b\b\b\b\b\b\b\b\r15/15 [==============================] - 91s 6s/step - loss: 0.9299 - accuracy: 0.6193 - val_loss: 1.1022 - val_accuracy: 0.4836\n",
            "Epoch 5/30\n",
            " 3/15 [=====>........................] - ETA: 1:00 - loss: 0.9926 - accuracy: 0.5890"
          ]
        },
        {
          "output_type": "stream",
          "name": "stderr",
          "text": [
            "/usr/local/lib/python3.9/dist-packages/PIL/Image.py:975: UserWarning: Palette images with Transparency expressed in bytes should be converted to RGBA images\n",
            "  warnings.warn(\n"
          ]
        },
        {
          "output_type": "stream",
          "name": "stdout",
          "text": [
            "15/15 [==============================] - ETA: 0s - loss: 0.9882 - accuracy: 0.6023\n",
            "Epoch 5: saving model to /content/gdrive/MyDrive/Colab Notebooks/image_classification/new_model_img_classifier.ckpt\n"
          ]
        },
        {
          "output_type": "stream",
          "name": "stderr",
          "text": [
            "WARNING:absl:Found untraced functions such as _jit_compiled_convolution_op, _jit_compiled_convolution_op, _jit_compiled_convolution_op, _jit_compiled_convolution_op while saving (showing 4 of 4). These functions will not be directly callable after loading.\n"
          ]
        },
        {
          "output_type": "stream",
          "name": "stdout",
          "text": [
            "\b\b\b\b\b\b\b\b\b\b\b\b\b\b\b\b\b\b\b\b\b\b\b\b\b\b\b\b\b\b\b\b\b\b\b\b\b\b\b\b\b\b\b\b\b\b\b\b\b\b\b\b\b\b\b\b\b\b\b\b\b\b\b\b\b\b\b\b\b\b\b\b\b\b\b\b\b\b\b\b\b\b\r15/15 [==============================] - 93s 6s/step - loss: 0.9882 - accuracy: 0.6023 - val_loss: 0.8876 - val_accuracy: 0.7213\n",
            "Epoch 6/30\n",
            " 2/15 [===>..........................] - ETA: 1:10 - loss: 0.8189 - accuracy: 0.6619"
          ]
        },
        {
          "output_type": "stream",
          "name": "stderr",
          "text": [
            "/usr/local/lib/python3.9/dist-packages/PIL/Image.py:975: UserWarning: Palette images with Transparency expressed in bytes should be converted to RGBA images\n",
            "  warnings.warn(\n"
          ]
        },
        {
          "output_type": "stream",
          "name": "stdout",
          "text": [
            "15/15 [==============================] - ETA: 0s - loss: 0.8827 - accuracy: 0.6466\n",
            "Epoch 6: saving model to /content/gdrive/MyDrive/Colab Notebooks/image_classification/new_model_img_classifier.ckpt\n"
          ]
        },
        {
          "output_type": "stream",
          "name": "stderr",
          "text": [
            "WARNING:absl:Found untraced functions such as _jit_compiled_convolution_op, _jit_compiled_convolution_op, _jit_compiled_convolution_op, _jit_compiled_convolution_op while saving (showing 4 of 4). These functions will not be directly callable after loading.\n"
          ]
        },
        {
          "output_type": "stream",
          "name": "stdout",
          "text": [
            "\b\b\b\b\b\b\b\b\b\b\b\b\b\b\b\b\b\b\b\b\b\b\b\b\b\b\b\b\b\b\b\b\b\b\b\b\b\b\b\b\b\b\b\b\b\b\b\b\b\b\b\b\b\b\b\b\b\b\b\b\b\b\b\b\b\b\b\b\b\b\b\b\b\b\b\b\b\b\b\b\b\b\r15/15 [==============================] - 90s 6s/step - loss: 0.8827 - accuracy: 0.6466 - val_loss: 1.1177 - val_accuracy: 0.5000\n",
            "Epoch 7/30\n",
            "10/15 [===================>..........] - ETA: 27s - loss: 0.9116 - accuracy: 0.6187"
          ]
        },
        {
          "output_type": "stream",
          "name": "stderr",
          "text": [
            "/usr/local/lib/python3.9/dist-packages/PIL/Image.py:975: UserWarning: Palette images with Transparency expressed in bytes should be converted to RGBA images\n",
            "  warnings.warn(\n"
          ]
        },
        {
          "output_type": "stream",
          "name": "stdout",
          "text": [
            "15/15 [==============================] - ETA: 0s - loss: 0.8857 - accuracy: 0.6367\n",
            "Epoch 7: saving model to /content/gdrive/MyDrive/Colab Notebooks/image_classification/new_model_img_classifier.ckpt\n"
          ]
        },
        {
          "output_type": "stream",
          "name": "stderr",
          "text": [
            "WARNING:absl:Found untraced functions such as _jit_compiled_convolution_op, _jit_compiled_convolution_op, _jit_compiled_convolution_op, _jit_compiled_convolution_op while saving (showing 4 of 4). These functions will not be directly callable after loading.\n"
          ]
        },
        {
          "output_type": "stream",
          "name": "stdout",
          "text": [
            "\b\b\b\b\b\b\b\b\b\b\b\b\b\b\b\b\b\b\b\b\b\b\b\b\b\b\b\b\b\b\b\b\b\b\b\b\b\b\b\b\b\b\b\b\b\b\b\b\b\b\b\b\b\b\b\b\b\b\b\b\b\b\b\b\b\b\b\b\b\b\b\b\b\b\b\b\b\b\b\b\b\b\r15/15 [==============================] - 92s 6s/step - loss: 0.8857 - accuracy: 0.6367 - val_loss: 1.0746 - val_accuracy: 0.5984\n",
            "Epoch 8/30\n",
            "12/15 [=======================>......] - ETA: 15s - loss: 0.9255 - accuracy: 0.6274"
          ]
        },
        {
          "output_type": "stream",
          "name": "stderr",
          "text": [
            "/usr/local/lib/python3.9/dist-packages/PIL/Image.py:975: UserWarning: Palette images with Transparency expressed in bytes should be converted to RGBA images\n",
            "  warnings.warn(\n"
          ]
        },
        {
          "output_type": "stream",
          "name": "stdout",
          "text": [
            "15/15 [==============================] - ETA: 0s - loss: 0.9447 - accuracy: 0.6189\n",
            "Epoch 8: saving model to /content/gdrive/MyDrive/Colab Notebooks/image_classification/new_model_img_classifier.ckpt\n"
          ]
        },
        {
          "output_type": "stream",
          "name": "stderr",
          "text": [
            "WARNING:absl:Found untraced functions such as _jit_compiled_convolution_op, _jit_compiled_convolution_op, _jit_compiled_convolution_op, _jit_compiled_convolution_op while saving (showing 4 of 4). These functions will not be directly callable after loading.\n"
          ]
        },
        {
          "output_type": "stream",
          "name": "stdout",
          "text": [
            "\b\b\b\b\b\b\b\b\b\b\b\b\b\b\b\b\b\b\b\b\b\b\b\b\b\b\b\b\b\b\b\b\b\b\b\b\b\b\b\b\b\b\b\b\b\b\b\b\b\b\b\b\b\b\b\b\b\b\b\b\b\b\b\b\b\b\b\b\b\b\b\b\b\b\b\b\b\b\b\b\b\b\r15/15 [==============================] - 84s 6s/step - loss: 0.9447 - accuracy: 0.6189 - val_loss: 0.8340 - val_accuracy: 0.7131\n",
            "Epoch 9/30\n",
            " 1/15 [=>............................] - ETA: 1:24 - loss: 0.7972 - accuracy: 0.6989"
          ]
        },
        {
          "output_type": "stream",
          "name": "stderr",
          "text": [
            "/usr/local/lib/python3.9/dist-packages/PIL/TiffImagePlugin.py:819: UserWarning: Corrupt EXIF data.  Expecting to read 4 bytes but only got 0. \n",
            "  warnings.warn(str(msg))\n"
          ]
        },
        {
          "output_type": "stream",
          "name": "stdout",
          "text": [
            " 8/15 [===============>..............] - ETA: 36s - loss: 0.9358 - accuracy: 0.6335"
          ]
        },
        {
          "output_type": "stream",
          "name": "stderr",
          "text": [
            "/usr/local/lib/python3.9/dist-packages/PIL/Image.py:975: UserWarning: Palette images with Transparency expressed in bytes should be converted to RGBA images\n",
            "  warnings.warn(\n"
          ]
        },
        {
          "output_type": "stream",
          "name": "stdout",
          "text": [
            "15/15 [==============================] - ETA: 0s - loss: 0.9010 - accuracy: 0.6394\n",
            "Epoch 9: saving model to /content/gdrive/MyDrive/Colab Notebooks/image_classification/new_model_img_classifier.ckpt\n"
          ]
        },
        {
          "output_type": "stream",
          "name": "stderr",
          "text": [
            "WARNING:absl:Found untraced functions such as _jit_compiled_convolution_op, _jit_compiled_convolution_op, _jit_compiled_convolution_op, _jit_compiled_convolution_op while saving (showing 4 of 4). These functions will not be directly callable after loading.\n"
          ]
        },
        {
          "output_type": "stream",
          "name": "stdout",
          "text": [
            "\b\b\b\b\b\b\b\b\b\b\b\b\b\b\b\b\b\b\b\b\b\b\b\b\b\b\b\b\b\b\b\b\b\b\b\b\b\b\b\b\b\b\b\b\b\b\b\b\b\b\b\b\b\b\b\b\b\b\b\b\b\b\b\b\b\b\b\b\b\b\b\b\b\b\b\b\b\b\b\b\b\b\r15/15 [==============================] - 83s 6s/step - loss: 0.9010 - accuracy: 0.6394 - val_loss: 0.7802 - val_accuracy: 0.6967\n",
            "Epoch 10/30\n",
            "11/15 [=====================>........] - ETA: 20s - loss: 0.8787 - accuracy: 0.6446"
          ]
        },
        {
          "output_type": "stream",
          "name": "stderr",
          "text": [
            "/usr/local/lib/python3.9/dist-packages/PIL/Image.py:975: UserWarning: Palette images with Transparency expressed in bytes should be converted to RGBA images\n",
            "  warnings.warn(\n"
          ]
        },
        {
          "output_type": "stream",
          "name": "stdout",
          "text": [
            "15/15 [==============================] - ETA: 0s - loss: 0.8908 - accuracy: 0.6405\n",
            "Epoch 10: saving model to /content/gdrive/MyDrive/Colab Notebooks/image_classification/new_model_img_classifier.ckpt\n"
          ]
        },
        {
          "output_type": "stream",
          "name": "stderr",
          "text": [
            "WARNING:absl:Found untraced functions such as _jit_compiled_convolution_op, _jit_compiled_convolution_op, _jit_compiled_convolution_op, _jit_compiled_convolution_op while saving (showing 4 of 4). These functions will not be directly callable after loading.\n"
          ]
        },
        {
          "output_type": "stream",
          "name": "stdout",
          "text": [
            "\b\b\b\b\b\b\b\b\b\b\b\b\b\b\b\b\b\b\b\b\b\b\b\b\b\b\b\b\b\b\b\b\b\b\b\b\b\b\b\b\b\b\b\b\b\b\b\b\b\b\b\b\b\b\b\b\b\b\b\b\b\b\b\b\b\b\b\b\b\b\b\b\b\b\b\b\b\b\b\b\b\b\r15/15 [==============================] - 85s 6s/step - loss: 0.8908 - accuracy: 0.6405 - val_loss: 0.9810 - val_accuracy: 0.6311\n",
            "Epoch 11/30\n",
            " 2/15 [===>..........................] - ETA: 55s - loss: 0.8500 - accuracy: 0.6648 "
          ]
        },
        {
          "output_type": "stream",
          "name": "stderr",
          "text": [
            "/usr/local/lib/python3.9/dist-packages/PIL/Image.py:975: UserWarning: Palette images with Transparency expressed in bytes should be converted to RGBA images\n",
            "  warnings.warn(\n"
          ]
        },
        {
          "output_type": "stream",
          "name": "stdout",
          "text": [
            "15/15 [==============================] - ETA: 0s - loss: 0.9034 - accuracy: 0.6398\n",
            "Epoch 11: saving model to /content/gdrive/MyDrive/Colab Notebooks/image_classification/new_model_img_classifier.ckpt\n"
          ]
        },
        {
          "output_type": "stream",
          "name": "stderr",
          "text": [
            "WARNING:absl:Found untraced functions such as _jit_compiled_convolution_op, _jit_compiled_convolution_op, _jit_compiled_convolution_op, _jit_compiled_convolution_op while saving (showing 4 of 4). These functions will not be directly callable after loading.\n"
          ]
        },
        {
          "output_type": "stream",
          "name": "stdout",
          "text": [
            "\b\b\b\b\b\b\b\b\b\b\b\b\b\b\b\b\b\b\b\b\b\b\b\b\b\b\b\b\b\b\b\b\b\b\b\b\b\b\b\b\b\b\b\b\b\b\b\b\b\b\b\b\b\b\b\b\b\b\b\b\b\b\b\b\b\b\b\b\b\b\b\b\b\b\b\b\b\b\b\b\b\b\r15/15 [==============================] - 84s 6s/step - loss: 0.9034 - accuracy: 0.6398 - val_loss: 0.8690 - val_accuracy: 0.7295\n",
            "Epoch 12/30\n",
            " 4/15 [=======>......................] - ETA: 56s - loss: 0.8278 - accuracy: 0.6847 "
          ]
        },
        {
          "output_type": "stream",
          "name": "stderr",
          "text": [
            "/usr/local/lib/python3.9/dist-packages/PIL/Image.py:975: UserWarning: Palette images with Transparency expressed in bytes should be converted to RGBA images\n",
            "  warnings.warn(\n"
          ]
        },
        {
          "output_type": "stream",
          "name": "stdout",
          "text": [
            "15/15 [==============================] - ETA: 0s - loss: 0.8672 - accuracy: 0.6648\n",
            "Epoch 12: saving model to /content/gdrive/MyDrive/Colab Notebooks/image_classification/new_model_img_classifier.ckpt\n"
          ]
        },
        {
          "output_type": "stream",
          "name": "stderr",
          "text": [
            "WARNING:absl:Found untraced functions such as _jit_compiled_convolution_op, _jit_compiled_convolution_op, _jit_compiled_convolution_op, _jit_compiled_convolution_op while saving (showing 4 of 4). These functions will not be directly callable after loading.\n"
          ]
        },
        {
          "output_type": "stream",
          "name": "stdout",
          "text": [
            "\b\b\b\b\b\b\b\b\b\b\b\b\b\b\b\b\b\b\b\b\b\b\b\b\b\b\b\b\b\b\b\b\b\b\b\b\b\b\b\b\b\b\b\b\b\b\b\b\b\b\b\b\b\b\b\b\b\b\b\b\b\b\b\b\b\b\b\b\b\b\b\b\b\b\b\b\b\b\b\b\b\b\r15/15 [==============================] - 81s 5s/step - loss: 0.8672 - accuracy: 0.6648 - val_loss: 1.0240 - val_accuracy: 0.6230\n",
            "Epoch 13/30\n",
            "15/15 [==============================] - ETA: 0s - loss: 0.8200 - accuracy: 0.6654\n",
            "Epoch 13: saving model to /content/gdrive/MyDrive/Colab Notebooks/image_classification/new_model_img_classifier.ckpt\n"
          ]
        },
        {
          "output_type": "stream",
          "name": "stderr",
          "text": [
            "WARNING:absl:Found untraced functions such as _jit_compiled_convolution_op, _jit_compiled_convolution_op, _jit_compiled_convolution_op, _jit_compiled_convolution_op while saving (showing 4 of 4). These functions will not be directly callable after loading.\n"
          ]
        },
        {
          "output_type": "stream",
          "name": "stdout",
          "text": [
            "\b\b\b\b\b\b\b\b\b\b\b\b\b\b\b\b\b\b\b\b\b\b\b\b\b\b\b\b\b\b\b\b\b\b\b\b\b\b\b\b\b\b\b\b\b\b\b\b\b\b\b\b\b\b\b\b\b\b\b\b\b\b\b\b\b\b\b\b\b\b\b\b\b\b\b\b\b\b\b\b\b\b\r15/15 [==============================] - 76s 5s/step - loss: 0.8200 - accuracy: 0.6654 - val_loss: 0.9478 - val_accuracy: 0.6803\n",
            "Epoch 14/30\n",
            " 4/15 [=======>......................] - ETA: 52s - loss: 1.2563 - accuracy: 0.5653"
          ]
        },
        {
          "output_type": "stream",
          "name": "stderr",
          "text": [
            "/usr/local/lib/python3.9/dist-packages/PIL/Image.py:975: UserWarning: Palette images with Transparency expressed in bytes should be converted to RGBA images\n",
            "  warnings.warn(\n"
          ]
        },
        {
          "output_type": "stream",
          "name": "stdout",
          "text": [
            "15/15 [==============================] - ETA: 0s - loss: 0.9509 - accuracy: 0.6470\n",
            "Epoch 14: saving model to /content/gdrive/MyDrive/Colab Notebooks/image_classification/new_model_img_classifier.ckpt\n"
          ]
        },
        {
          "output_type": "stream",
          "name": "stderr",
          "text": [
            "WARNING:absl:Found untraced functions such as _jit_compiled_convolution_op, _jit_compiled_convolution_op, _jit_compiled_convolution_op, _jit_compiled_convolution_op while saving (showing 4 of 4). These functions will not be directly callable after loading.\n"
          ]
        },
        {
          "output_type": "stream",
          "name": "stdout",
          "text": [
            "\b\b\b\b\b\b\b\b\b\b\b\b\b\b\b\b\b\b\b\b\b\b\b\b\b\b\b\b\b\b\b\b\b\b\b\b\b\b\b\b\b\b\b\b\b\b\b\b\b\b\b\b\b\b\b\b\b\b\b\b\b\b\b\b\b\b\b\b\b\b\b\b\b\b\b\b\b\b\b\b\b\b\r15/15 [==============================] - 81s 5s/step - loss: 0.9509 - accuracy: 0.6470 - val_loss: 0.7735 - val_accuracy: 0.6803\n",
            "Epoch 15/30\n",
            " 1/15 [=>............................] - ETA: 1:18 - loss: 0.8692 - accuracy: 0.6364"
          ]
        },
        {
          "output_type": "stream",
          "name": "stderr",
          "text": [
            "/usr/local/lib/python3.9/dist-packages/PIL/Image.py:975: UserWarning: Palette images with Transparency expressed in bytes should be converted to RGBA images\n",
            "  warnings.warn(\n"
          ]
        },
        {
          "output_type": "stream",
          "name": "stdout",
          "text": [
            "15/15 [==============================] - ETA: 0s - loss: 0.8300 - accuracy: 0.6769\n",
            "Epoch 15: saving model to /content/gdrive/MyDrive/Colab Notebooks/image_classification/new_model_img_classifier.ckpt\n"
          ]
        },
        {
          "output_type": "stream",
          "name": "stderr",
          "text": [
            "WARNING:absl:Found untraced functions such as _jit_compiled_convolution_op, _jit_compiled_convolution_op, _jit_compiled_convolution_op, _jit_compiled_convolution_op while saving (showing 4 of 4). These functions will not be directly callable after loading.\n"
          ]
        },
        {
          "output_type": "stream",
          "name": "stdout",
          "text": [
            "\b\b\b\b\b\b\b\b\b\b\b\b\b\b\b\b\b\b\b\b\b\b\b\b\b\b\b\b\b\b\b\b\b\b\b\b\b\b\b\b\b\b\b\b\b\b\b\b\b\b\b\b\b\b\b\b\b\b\b\b\b\b\b\b\b\b\b\b\b\b\b\b\b\b\b\b\b\b\b\b\b\b\r15/15 [==============================] - 79s 5s/step - loss: 0.8300 - accuracy: 0.6769 - val_loss: 1.1937 - val_accuracy: 0.5164\n",
            "Epoch 16/30\n"
          ]
        },
        {
          "output_type": "stream",
          "name": "stderr",
          "text": [
            "/usr/local/lib/python3.9/dist-packages/PIL/Image.py:975: UserWarning: Palette images with Transparency expressed in bytes should be converted to RGBA images\n",
            "  warnings.warn(\n"
          ]
        },
        {
          "output_type": "stream",
          "name": "stdout",
          "text": [
            "15/15 [==============================] - ETA: 0s - loss: 0.8836 - accuracy: 0.6500\n",
            "Epoch 16: saving model to /content/gdrive/MyDrive/Colab Notebooks/image_classification/new_model_img_classifier.ckpt\n"
          ]
        },
        {
          "output_type": "stream",
          "name": "stderr",
          "text": [
            "WARNING:absl:Found untraced functions such as _jit_compiled_convolution_op, _jit_compiled_convolution_op, _jit_compiled_convolution_op, _jit_compiled_convolution_op while saving (showing 4 of 4). These functions will not be directly callable after loading.\n"
          ]
        },
        {
          "output_type": "stream",
          "name": "stdout",
          "text": [
            "\b\b\b\b\b\b\b\b\b\b\b\b\b\b\b\b\b\b\b\b\b\b\b\b\b\b\b\b\b\b\b\b\b\b\b\b\b\b\b\b\b\b\b\b\b\b\b\b\b\b\b\b\b\b\b\b\b\b\b\b\b\b\b\b\b\b\b\b\b\b\b\b\b\b\b\b\b\b\b\b\b\b\r15/15 [==============================] - 74s 5s/step - loss: 0.8836 - accuracy: 0.6500 - val_loss: 0.7743 - val_accuracy: 0.7541\n",
            "Epoch 17/30\n",
            " 3/15 [=====>........................] - ETA: 1:01 - loss: 0.7258 - accuracy: 0.7386"
          ]
        },
        {
          "output_type": "stream",
          "name": "stderr",
          "text": [
            "/usr/local/lib/python3.9/dist-packages/PIL/Image.py:975: UserWarning: Palette images with Transparency expressed in bytes should be converted to RGBA images\n",
            "  warnings.warn(\n"
          ]
        },
        {
          "output_type": "stream",
          "name": "stdout",
          "text": [
            "15/15 [==============================] - ETA: 0s - loss: 0.8011 - accuracy: 0.6814\n",
            "Epoch 17: saving model to /content/gdrive/MyDrive/Colab Notebooks/image_classification/new_model_img_classifier.ckpt\n"
          ]
        },
        {
          "output_type": "stream",
          "name": "stderr",
          "text": [
            "WARNING:absl:Found untraced functions such as _jit_compiled_convolution_op, _jit_compiled_convolution_op, _jit_compiled_convolution_op, _jit_compiled_convolution_op while saving (showing 4 of 4). These functions will not be directly callable after loading.\n"
          ]
        },
        {
          "output_type": "stream",
          "name": "stdout",
          "text": [
            "\b\b\b\b\b\b\b\b\b\b\b\b\b\b\b\b\b\b\b\b\b\b\b\b\b\b\b\b\b\b\b\b\b\b\b\b\b\b\b\b\b\b\b\b\b\b\b\b\b\b\b\b\b\b\b\b\b\b\b\b\b\b\b\b\b\b\b\b\b\b\b\b\b\b\b\b\b\b\b\b\b\b\r15/15 [==============================] - 77s 5s/step - loss: 0.8011 - accuracy: 0.6814 - val_loss: 0.7598 - val_accuracy: 0.7541\n",
            "Epoch 18/30\n",
            " 2/15 [===>..........................] - ETA: 58s - loss: 0.7899 - accuracy: 0.6875 "
          ]
        },
        {
          "output_type": "stream",
          "name": "stderr",
          "text": [
            "/usr/local/lib/python3.9/dist-packages/PIL/Image.py:975: UserWarning: Palette images with Transparency expressed in bytes should be converted to RGBA images\n",
            "  warnings.warn(\n"
          ]
        },
        {
          "output_type": "stream",
          "name": "stdout",
          "text": [
            "15/15 [==============================] - ETA: 0s - loss: 0.8630 - accuracy: 0.6595\n",
            "Epoch 18: saving model to /content/gdrive/MyDrive/Colab Notebooks/image_classification/new_model_img_classifier.ckpt\n"
          ]
        },
        {
          "output_type": "stream",
          "name": "stderr",
          "text": [
            "WARNING:absl:Found untraced functions such as _jit_compiled_convolution_op, _jit_compiled_convolution_op, _jit_compiled_convolution_op, _jit_compiled_convolution_op while saving (showing 4 of 4). These functions will not be directly callable after loading.\n"
          ]
        },
        {
          "output_type": "stream",
          "name": "stdout",
          "text": [
            "\b\b\b\b\b\b\b\b\b\b\b\b\b\b\b\b\b\b\b\b\b\b\b\b\b\b\b\b\b\b\b\b\b\b\b\b\b\b\b\b\b\b\b\b\b\b\b\b\b\b\b\b\b\b\b\b\b\b\b\b\b\b\b\b\b\b\b\b\b\b\b\b\b\b\b\b\b\b\b\b\b\b\r15/15 [==============================] - 77s 5s/step - loss: 0.8630 - accuracy: 0.6595 - val_loss: 0.8357 - val_accuracy: 0.6967\n",
            "Epoch 19/30\n",
            " 4/15 [=======>......................] - ETA: 48s - loss: 0.7579 - accuracy: 0.7043"
          ]
        },
        {
          "output_type": "stream",
          "name": "stderr",
          "text": [
            "/usr/local/lib/python3.9/dist-packages/PIL/TiffImagePlugin.py:819: UserWarning: Corrupt EXIF data.  Expecting to read 4 bytes but only got 0. \n",
            "  warnings.warn(str(msg))\n"
          ]
        },
        {
          "output_type": "stream",
          "name": "stdout",
          "text": [
            "10/15 [===================>..........] - ETA: 22s - loss: 0.7851 - accuracy: 0.6915"
          ]
        },
        {
          "output_type": "stream",
          "name": "stderr",
          "text": [
            "/usr/local/lib/python3.9/dist-packages/PIL/Image.py:975: UserWarning: Palette images with Transparency expressed in bytes should be converted to RGBA images\n",
            "  warnings.warn(\n"
          ]
        },
        {
          "output_type": "stream",
          "name": "stdout",
          "text": [
            "15/15 [==============================] - ETA: 0s - loss: 0.8638 - accuracy: 0.6514\n",
            "Epoch 19: saving model to /content/gdrive/MyDrive/Colab Notebooks/image_classification/new_model_img_classifier.ckpt\n"
          ]
        },
        {
          "output_type": "stream",
          "name": "stderr",
          "text": [
            "WARNING:absl:Found untraced functions such as _jit_compiled_convolution_op, _jit_compiled_convolution_op, _jit_compiled_convolution_op, _jit_compiled_convolution_op while saving (showing 4 of 4). These functions will not be directly callable after loading.\n"
          ]
        },
        {
          "output_type": "stream",
          "name": "stdout",
          "text": [
            "\b\b\b\b\b\b\b\b\b\b\b\b\b\b\b\b\b\b\b\b\b\b\b\b\b\b\b\b\b\b\b\b\b\b\b\b\b\b\b\b\b\b\b\b\b\b\b\b\b\b\b\b\b\b\b\b\b\b\b\b\b\b\b\b\b\b\b\b\b\b\b\b\b\b\b\b\b\b\b\b\b\b\r15/15 [==============================] - 77s 5s/step - loss: 0.8638 - accuracy: 0.6514 - val_loss: 0.9176 - val_accuracy: 0.6885\n",
            "Epoch 20/30\n",
            " 5/15 [=========>....................] - ETA: 47s - loss: 0.8240 - accuracy: 0.6716"
          ]
        },
        {
          "output_type": "stream",
          "name": "stderr",
          "text": [
            "/usr/local/lib/python3.9/dist-packages/PIL/Image.py:975: UserWarning: Palette images with Transparency expressed in bytes should be converted to RGBA images\n",
            "  warnings.warn(\n"
          ]
        },
        {
          "output_type": "stream",
          "name": "stdout",
          "text": [
            "15/15 [==============================] - ETA: 0s - loss: 0.8244 - accuracy: 0.6663\n",
            "Epoch 20: saving model to /content/gdrive/MyDrive/Colab Notebooks/image_classification/new_model_img_classifier.ckpt\n"
          ]
        },
        {
          "output_type": "stream",
          "name": "stderr",
          "text": [
            "WARNING:absl:Found untraced functions such as _jit_compiled_convolution_op, _jit_compiled_convolution_op, _jit_compiled_convolution_op, _jit_compiled_convolution_op while saving (showing 4 of 4). These functions will not be directly callable after loading.\n"
          ]
        },
        {
          "output_type": "stream",
          "name": "stdout",
          "text": [
            "\b\b\b\b\b\b\b\b\b\b\b\b\b\b\b\b\b\b\b\b\b\b\b\b\b\b\b\b\b\b\b\b\b\b\b\b\b\b\b\b\b\b\b\b\b\b\b\b\b\b\b\b\b\b\b\b\b\b\b\b\b\b\b\b\b\b\b\b\b\b\b\b\b\b\b\b\b\b\b\b\b\b\r15/15 [==============================] - 75s 5s/step - loss: 0.8244 - accuracy: 0.6663 - val_loss: 0.6730 - val_accuracy: 0.7541\n",
            "Epoch 21/30\n",
            "13/15 [=========================>....] - ETA: 8s - loss: 0.8093 - accuracy: 0.6766 "
          ]
        },
        {
          "output_type": "stream",
          "name": "stderr",
          "text": [
            "/usr/local/lib/python3.9/dist-packages/PIL/Image.py:975: UserWarning: Palette images with Transparency expressed in bytes should be converted to RGBA images\n",
            "  warnings.warn(\n"
          ]
        },
        {
          "output_type": "stream",
          "name": "stdout",
          "text": [
            "15/15 [==============================] - ETA: 0s - loss: 0.8069 - accuracy: 0.6777\n",
            "Epoch 21: saving model to /content/gdrive/MyDrive/Colab Notebooks/image_classification/new_model_img_classifier.ckpt\n"
          ]
        },
        {
          "output_type": "stream",
          "name": "stderr",
          "text": [
            "WARNING:absl:Found untraced functions such as _jit_compiled_convolution_op, _jit_compiled_convolution_op, _jit_compiled_convolution_op, _jit_compiled_convolution_op while saving (showing 4 of 4). These functions will not be directly callable after loading.\n"
          ]
        },
        {
          "output_type": "stream",
          "name": "stdout",
          "text": [
            "\b\b\b\b\b\b\b\b\b\b\b\b\b\b\b\b\b\b\b\b\b\b\b\b\b\b\b\b\b\b\b\b\b\b\b\b\b\b\b\b\b\b\b\b\b\b\b\b\b\b\b\b\b\b\b\b\b\b\b\b\b\b\b\b\b\b\b\b\b\b\b\b\b\b\b\b\b\b\b\b\b\b\r15/15 [==============================] - 73s 5s/step - loss: 0.8069 - accuracy: 0.6777 - val_loss: 1.2466 - val_accuracy: 0.5246\n",
            "Epoch 22/30\n",
            " 5/15 [=========>....................] - ETA: 42s - loss: 0.7831 - accuracy: 0.6830"
          ]
        },
        {
          "output_type": "stream",
          "name": "stderr",
          "text": [
            "/usr/local/lib/python3.9/dist-packages/PIL/Image.py:975: UserWarning: Palette images with Transparency expressed in bytes should be converted to RGBA images\n",
            "  warnings.warn(\n"
          ]
        },
        {
          "output_type": "stream",
          "name": "stdout",
          "text": [
            "15/15 [==============================] - ETA: 0s - loss: 0.8118 - accuracy: 0.6735\n",
            "Epoch 22: saving model to /content/gdrive/MyDrive/Colab Notebooks/image_classification/new_model_img_classifier.ckpt\n"
          ]
        },
        {
          "output_type": "stream",
          "name": "stderr",
          "text": [
            "WARNING:absl:Found untraced functions such as _jit_compiled_convolution_op, _jit_compiled_convolution_op, _jit_compiled_convolution_op, _jit_compiled_convolution_op while saving (showing 4 of 4). These functions will not be directly callable after loading.\n"
          ]
        },
        {
          "output_type": "stream",
          "name": "stdout",
          "text": [
            "\b\b\b\b\b\b\b\b\b\b\b\b\b\b\b\b\b\b\b\b\b\b\b\b\b\b\b\b\b\b\b\b\b\b\b\b\b\b\b\b\b\b\b\b\b\b\b\b\b\b\b\b\b\b\b\b\b\b\b\b\b\b\b\b\b\b\b\b\b\b\b\b\b\b\b\b\b\b\b\b\b\b\r15/15 [==============================] - 72s 5s/step - loss: 0.8118 - accuracy: 0.6735 - val_loss: 0.6639 - val_accuracy: 0.7787\n",
            "Epoch 23/30\n",
            "15/15 [==============================] - ETA: 0s - loss: 0.8118 - accuracy: 0.6652\n",
            "Epoch 23: saving model to /content/gdrive/MyDrive/Colab Notebooks/image_classification/new_model_img_classifier.ckpt\n"
          ]
        },
        {
          "output_type": "stream",
          "name": "stderr",
          "text": [
            "WARNING:absl:Found untraced functions such as _jit_compiled_convolution_op, _jit_compiled_convolution_op, _jit_compiled_convolution_op, _jit_compiled_convolution_op while saving (showing 4 of 4). These functions will not be directly callable after loading.\n"
          ]
        },
        {
          "output_type": "stream",
          "name": "stdout",
          "text": [
            "\b\b\b\b\b\b\b\b\b\b\b\b\b\b\b\b\b\b\b\b\b\b\b\b\b\b\b\b\b\b\b\b\b\b\b\b\b\b\b\b\b\b\b\b\b\b\b\b\b\b\b\b\b\b\b\b\b\b\b\b\b\b\b\b\b\b\b\b\b\b\b\b\b\b\b\b\b\b\b\b\b\b\r15/15 [==============================] - 72s 5s/step - loss: 0.8118 - accuracy: 0.6652 - val_loss: 0.7242 - val_accuracy: 0.7213\n",
            "Epoch 24/30\n",
            " 9/15 [=================>............] - ETA: 27s - loss: 0.7794 - accuracy: 0.6926"
          ]
        },
        {
          "output_type": "stream",
          "name": "stderr",
          "text": [
            "/usr/local/lib/python3.9/dist-packages/PIL/Image.py:975: UserWarning: Palette images with Transparency expressed in bytes should be converted to RGBA images\n",
            "  warnings.warn(\n"
          ]
        },
        {
          "output_type": "stream",
          "name": "stdout",
          "text": [
            "15/15 [==============================] - ETA: 0s - loss: 0.8169 - accuracy: 0.6818\n",
            "Epoch 24: saving model to /content/gdrive/MyDrive/Colab Notebooks/image_classification/new_model_img_classifier.ckpt\n"
          ]
        },
        {
          "output_type": "stream",
          "name": "stderr",
          "text": [
            "WARNING:absl:Found untraced functions such as _jit_compiled_convolution_op, _jit_compiled_convolution_op, _jit_compiled_convolution_op, _jit_compiled_convolution_op while saving (showing 4 of 4). These functions will not be directly callable after loading.\n"
          ]
        },
        {
          "output_type": "stream",
          "name": "stdout",
          "text": [
            "\b\b\b\b\b\b\b\b\b\b\b\b\b\b\b\b\b\b\b\b\b\b\b\b\b\b\b\b\b\b\b\b\b\b\b\b\b\b\b\b\b\b\b\b\b\b\b\b\b\b\b\b\b\b\b\b\b\b\b\b\b\b\b\b\b\b\b\b\b\b\b\b\b\b\b\b\b\b\b\b\b\b\r15/15 [==============================] - 78s 5s/step - loss: 0.8169 - accuracy: 0.6818 - val_loss: 0.8294 - val_accuracy: 0.6967\n",
            "Epoch 25/30\n",
            " 6/15 [===========>..................] - ETA: 33s - loss: 0.7676 - accuracy: 0.6970"
          ]
        },
        {
          "output_type": "stream",
          "name": "stderr",
          "text": [
            "/usr/local/lib/python3.9/dist-packages/PIL/Image.py:975: UserWarning: Palette images with Transparency expressed in bytes should be converted to RGBA images\n",
            "  warnings.warn(\n"
          ]
        },
        {
          "output_type": "stream",
          "name": "stdout",
          "text": [
            "15/15 [==============================] - ETA: 0s - loss: 0.7920 - accuracy: 0.6955\n",
            "Epoch 25: saving model to /content/gdrive/MyDrive/Colab Notebooks/image_classification/new_model_img_classifier.ckpt\n"
          ]
        },
        {
          "output_type": "stream",
          "name": "stderr",
          "text": [
            "WARNING:absl:Found untraced functions such as _jit_compiled_convolution_op, _jit_compiled_convolution_op, _jit_compiled_convolution_op, _jit_compiled_convolution_op while saving (showing 4 of 4). These functions will not be directly callable after loading.\n"
          ]
        },
        {
          "output_type": "stream",
          "name": "stdout",
          "text": [
            "\b\b\b\b\b\b\b\b\b\b\b\b\b\b\b\b\b\b\b\b\b\b\b\b\b\b\b\b\b\b\b\b\b\b\b\b\b\b\b\b\b\b\b\b\b\b\b\b\b\b\b\b\b\b\b\b\b\b\b\b\b\b\b\b\b\b\b\b\b\b\b\b\b\b\b\b\b\b\b\b\b\b\r15/15 [==============================] - 69s 5s/step - loss: 0.7920 - accuracy: 0.6955 - val_loss: 1.0745 - val_accuracy: 0.6967\n",
            "Epoch 26/30\n",
            " 3/15 [=====>........................] - ETA: 51s - loss: 0.9889 - accuracy: 0.6155 "
          ]
        },
        {
          "output_type": "stream",
          "name": "stderr",
          "text": [
            "/usr/local/lib/python3.9/dist-packages/PIL/Image.py:975: UserWarning: Palette images with Transparency expressed in bytes should be converted to RGBA images\n",
            "  warnings.warn(\n"
          ]
        },
        {
          "output_type": "stream",
          "name": "stdout",
          "text": [
            "15/15 [==============================] - ETA: 0s - loss: 0.8214 - accuracy: 0.6807\n",
            "Epoch 26: saving model to /content/gdrive/MyDrive/Colab Notebooks/image_classification/new_model_img_classifier.ckpt\n"
          ]
        },
        {
          "output_type": "stream",
          "name": "stderr",
          "text": [
            "WARNING:absl:Found untraced functions such as _jit_compiled_convolution_op, _jit_compiled_convolution_op, _jit_compiled_convolution_op, _jit_compiled_convolution_op while saving (showing 4 of 4). These functions will not be directly callable after loading.\n"
          ]
        },
        {
          "output_type": "stream",
          "name": "stdout",
          "text": [
            "\b\b\b\b\b\b\b\b\b\b\b\b\b\b\b\b\b\b\b\b\b\b\b\b\b\b\b\b\b\b\b\b\b\b\b\b\b\b\b\b\b\b\b\b\b\b\b\b\b\b\b\b\b\b\b\b\b\b\b\b\b\b\b\b\b\b\b\b\b\b\b\b\b\b\b\b\b\b\b\b\b\b\r15/15 [==============================] - 73s 5s/step - loss: 0.8214 - accuracy: 0.6807 - val_loss: 0.8401 - val_accuracy: 0.7131\n",
            "Epoch 27/30\n",
            " 4/15 [=======>......................] - ETA: 45s - loss: 0.7590 - accuracy: 0.6960"
          ]
        },
        {
          "output_type": "stream",
          "name": "stderr",
          "text": [
            "/usr/local/lib/python3.9/dist-packages/PIL/Image.py:975: UserWarning: Palette images with Transparency expressed in bytes should be converted to RGBA images\n",
            "  warnings.warn(\n"
          ]
        },
        {
          "output_type": "stream",
          "name": "stdout",
          "text": [
            "15/15 [==============================] - ETA: 0s - loss: 0.8075 - accuracy: 0.6803\n",
            "Epoch 27: saving model to /content/gdrive/MyDrive/Colab Notebooks/image_classification/new_model_img_classifier.ckpt\n"
          ]
        },
        {
          "output_type": "stream",
          "name": "stderr",
          "text": [
            "WARNING:absl:Found untraced functions such as _jit_compiled_convolution_op, _jit_compiled_convolution_op, _jit_compiled_convolution_op, _jit_compiled_convolution_op while saving (showing 4 of 4). These functions will not be directly callable after loading.\n"
          ]
        },
        {
          "output_type": "stream",
          "name": "stdout",
          "text": [
            "\b\b\b\b\b\b\b\b\b\b\b\b\b\b\b\b\b\b\b\b\b\b\b\b\b\b\b\b\b\b\b\b\b\b\b\b\b\b\b\b\b\b\b\b\b\b\b\b\b\b\b\b\b\b\b\b\b\b\b\b\b\b\b\b\b\b\b\b\b\b\b\b\b\b\b\b\b\b\b\b\b\b\r15/15 [==============================] - 69s 5s/step - loss: 0.8075 - accuracy: 0.6803 - val_loss: 1.4054 - val_accuracy: 0.5164\n",
            "Epoch 28/30\n",
            " 9/15 [=================>............] - ETA: 26s - loss: 0.8783 - accuracy: 0.6484"
          ]
        },
        {
          "output_type": "stream",
          "name": "stderr",
          "text": [
            "/usr/local/lib/python3.9/dist-packages/PIL/Image.py:975: UserWarning: Palette images with Transparency expressed in bytes should be converted to RGBA images\n",
            "  warnings.warn(\n"
          ]
        },
        {
          "output_type": "stream",
          "name": "stdout",
          "text": [
            "15/15 [==============================] - ETA: 0s - loss: 0.7990 - accuracy: 0.6856\n",
            "Epoch 28: saving model to /content/gdrive/MyDrive/Colab Notebooks/image_classification/new_model_img_classifier.ckpt\n"
          ]
        },
        {
          "output_type": "stream",
          "name": "stderr",
          "text": [
            "WARNING:absl:Found untraced functions such as _jit_compiled_convolution_op, _jit_compiled_convolution_op, _jit_compiled_convolution_op, _jit_compiled_convolution_op while saving (showing 4 of 4). These functions will not be directly callable after loading.\n"
          ]
        },
        {
          "output_type": "stream",
          "name": "stdout",
          "text": [
            "\b\b\b\b\b\b\b\b\b\b\b\b\b\b\b\b\b\b\b\b\b\b\b\b\b\b\b\b\b\b\b\b\b\b\b\b\b\b\b\b\b\b\b\b\b\b\b\b\b\b\b\b\b\b\b\b\b\b\b\b\b\b\b\b\b\b\b\b\b\b\b\b\b\b\b\b\b\b\b\b\b\b\r15/15 [==============================] - 72s 5s/step - loss: 0.7990 - accuracy: 0.6856 - val_loss: 1.1829 - val_accuracy: 0.5820\n",
            "Epoch 29/30\n",
            " 5/15 [=========>....................] - ETA: 44s - loss: 0.7772 - accuracy: 0.6898"
          ]
        },
        {
          "output_type": "stream",
          "name": "stderr",
          "text": [
            "/usr/local/lib/python3.9/dist-packages/PIL/Image.py:975: UserWarning: Palette images with Transparency expressed in bytes should be converted to RGBA images\n",
            "  warnings.warn(\n"
          ]
        },
        {
          "output_type": "stream",
          "name": "stdout",
          "text": [
            "15/15 [==============================] - ETA: 0s - loss: 0.8015 - accuracy: 0.6962\n",
            "Epoch 29: saving model to /content/gdrive/MyDrive/Colab Notebooks/image_classification/new_model_img_classifier.ckpt\n"
          ]
        },
        {
          "output_type": "stream",
          "name": "stderr",
          "text": [
            "WARNING:absl:Found untraced functions such as _jit_compiled_convolution_op, _jit_compiled_convolution_op, _jit_compiled_convolution_op, _jit_compiled_convolution_op while saving (showing 4 of 4). These functions will not be directly callable after loading.\n"
          ]
        },
        {
          "output_type": "stream",
          "name": "stdout",
          "text": [
            "\b\b\b\b\b\b\b\b\b\b\b\b\b\b\b\b\b\b\b\b\b\b\b\b\b\b\b\b\b\b\b\b\b\b\b\b\b\b\b\b\b\b\b\b\b\b\b\b\b\b\b\b\b\b\b\b\b\b\b\b\b\b\b\b\b\b\b\b\b\b\b\b\b\b\b\b\b\b\b\b\b\b\r15/15 [==============================] - 71s 5s/step - loss: 0.8015 - accuracy: 0.6962 - val_loss: 0.8045 - val_accuracy: 0.7295\n",
            "Epoch 30/30\n",
            " 8/15 [===============>..............] - ETA: 27s - loss: 0.7296 - accuracy: 0.7280"
          ]
        },
        {
          "output_type": "stream",
          "name": "stderr",
          "text": [
            "/usr/local/lib/python3.9/dist-packages/PIL/Image.py:975: UserWarning: Palette images with Transparency expressed in bytes should be converted to RGBA images\n",
            "  warnings.warn(\n"
          ]
        },
        {
          "output_type": "stream",
          "name": "stdout",
          "text": [
            "15/15 [==============================] - ETA: 0s - loss: 0.7734 - accuracy: 0.7015\n",
            "Epoch 30: saving model to /content/gdrive/MyDrive/Colab Notebooks/image_classification/new_model_img_classifier.ckpt\n"
          ]
        },
        {
          "output_type": "stream",
          "name": "stderr",
          "text": [
            "WARNING:absl:Found untraced functions such as _jit_compiled_convolution_op, _jit_compiled_convolution_op, _jit_compiled_convolution_op, _jit_compiled_convolution_op while saving (showing 4 of 4). These functions will not be directly callable after loading.\n"
          ]
        },
        {
          "output_type": "stream",
          "name": "stdout",
          "text": [
            "\b\b\b\b\b\b\b\b\b\b\b\b\b\b\b\b\b\b\b\b\b\b\b\b\b\b\b\b\b\b\b\b\b\b\b\b\b\b\b\b\b\b\b\b\b\b\b\b\b\b\b\b\b\b\b\b\b\b\b\b\b\b\b\b\b\b\b\b\b\b\b\b\b\b\b\b\b\b\b\b\b\b\r15/15 [==============================] - 68s 4s/step - loss: 0.7734 - accuracy: 0.7015 - val_loss: 0.7712 - val_accuracy: 0.6967\n"
          ]
        },
        {
          "output_type": "error",
          "ename": "AttributeError",
          "evalue": "ignored",
          "traceback": [
            "\u001b[0;31m---------------------------------------------------------------------------\u001b[0m",
            "\u001b[0;31mAttributeError\u001b[0m                            Traceback (most recent call last)",
            "\u001b[0;32m<ipython-input-28-c59005dcc766>\u001b[0m in \u001b[0;36m<cell line: 19>\u001b[0;34m()\u001b[0m\n\u001b[1;32m     17\u001b[0m           callbacks=[cp_callback])\n\u001b[1;32m     18\u001b[0m \u001b[0;34m\u001b[0m\u001b[0m\n\u001b[0;32m---> 19\u001b[0;31m \u001b[0mnew_model\u001b[0m\u001b[0;34m.\u001b[0m\u001b[0msave_weights\u001b[0m\u001b[0;34m(\u001b[0m\u001b[0;34mf'{home_dir}/new_img_classifier.h5'\u001b[0m\u001b[0;34m,\u001b[0m \u001b[0moverwrite\u001b[0m\u001b[0;34m=\u001b[0m\u001b[0;32mTrue\u001b[0m\u001b[0;34m)\u001b[0m\u001b[0;34m\u001b[0m\u001b[0;34m\u001b[0m\u001b[0m\n\u001b[0m",
            "\u001b[0;31mAttributeError\u001b[0m: 'History' object has no attribute 'save_weights'"
          ]
        }
      ]
    },
    {
      "cell_type": "code",
      "source": [
        "def plot_model_performance(model, metric):\n",
        "    plt.plot(model.history[metric])\n",
        "    plt.plot(model.history[f'val_{metric}'])\n",
        "    plt.xlabel('Epochs')\n",
        "    plt.ylabel(metric)\n",
        "    plt.legend([metric, f'val_{metric}'])\n",
        "    plt.show()\n",
        "\n",
        "\n",
        "plot_model_performance(new_model, 'accuracy')\n",
        "plot_model_performance(new_model, 'loss')"
      ],
      "metadata": {
        "colab": {
          "base_uri": "https://localhost:8080/",
          "height": 881
        },
        "id": "WUpMOQRaid8z",
        "outputId": "8253edad-200a-4922-8299-12fdcb1fc3ec"
      },
      "execution_count": 29,
      "outputs": [
        {
          "output_type": "display_data",
          "data": {
            "text/plain": [
              "<Figure size 640x480 with 1 Axes>"
            ],
            "image/png": "[encoded data removed]"
          },
          "metadata": {}
        },
        {
          "output_type": "display_data",
          "data": {
            "text/plain": [
              "<Figure size 640x480 with 1 Axes>"
            ],
            "image/png": "[encoded data removed]"
          },
          "metadata": {}
        }
      ]
    },
    {
      "cell_type": "code",
      "source": [
        "new_model = create_model()\n",
        "new_model.load_weights('/content/gdrive/MyDrive/Colab Notebooks/image_classification/img_classifier.h5')\n"
      ],
      "metadata": {
        "id": "caU-fhezD5X5"
      },
      "execution_count": 29,
      "outputs": []
    },
    {
      "cell_type": "code",
      "source": [
        "print(test_generator.class_indices"
      ],
      "metadata": {
        "id": "0tvzdqVr9HJI"
      },
      "execution_count": null,
      "outputs": []
    },
    {
      "cell_type": "code",
      "source": [
        "from tensorflow.keras.preprocessing import image\n",
        "from tensorflow.keras.utils import load_img, img_to_array\n",
        "\n",
        "for i in os.listdir(test_img_dir):\n",
        "  img = load_img(f'{test_img_dir}/{i}', target_size=(256, 256))\n",
        "  x = img_to_array(img)\n",
        "  x = np.expand_dims(x, axis=0)\n",
        "\n",
        "  images = np.vstack([x])\n",
        "  prediction = new_model.predict(images, batch_size=10)\n",
        "  print(img)\n",
        "  print(prediction)"
      ],
      "metadata": {
        "colab": {
          "base_uri": "https://localhost:8080/"
        },
        "id": "iJ9syn6kEUzR",
        "outputId": "f0ff0446-a62b-49c9-bd23-9c0f2cf89959"
      },
      "execution_count": 30,
      "outputs": [
        {
          "output_type": "stream",
          "name": "stdout",
          "text": [
            "1/1 [==============================] - 1s 867ms/step\n",
            "<PIL.Image.Image image mode=RGB size=256x256 at 0x7FCD67A3DFA0>\n",
            "[[0.000000e+00 1.000000e+00 1.407084e-13 0.000000e+00]]\n",
            "1/1 [==============================] - 0s 90ms/step\n",
            "<PIL.Image.Image image mode=RGB size=256x256 at 0x7FCD73AF8280>\n",
            "[[0.0000000e+00 1.2287035e-22 1.0000000e+00 0.0000000e+00]]\n",
            "1/1 [==============================] - 0s 76ms/step\n",
            "<PIL.Image.Image image mode=RGB size=256x256 at 0x7FCD718B4E50>\n",
            "[[2.035807e-14 0.000000e+00 0.000000e+00 1.000000e+00]]\n",
            "1/1 [==============================] - 0s 94ms/step\n",
            "<PIL.Image.Image image mode=RGB size=256x256 at 0x7FCE04380F10>\n",
            "[[0. 1. 0. 0.]]\n",
            "1/1 [==============================] - 0s 76ms/step\n",
            "<PIL.Image.Image image mode=RGB size=256x256 at 0x7FCD71CE4550>\n",
            "[[0. 1. 0. 0.]]\n",
            "1/1 [==============================] - 0s 81ms/step\n",
            "<PIL.Image.Image image mode=RGB size=256x256 at 0x7FCD71CEEAC0>\n",
            "[[0.0000000e+00 2.9616777e-27 0.0000000e+00 1.0000000e+00]]\n",
            "1/1 [==============================] - 0s 99ms/step\n",
            "<PIL.Image.Image image mode=RGB size=256x256 at 0x7FCD67A329A0>\n",
            "[[1.8611398e-15 0.0000000e+00 0.0000000e+00 1.0000000e+00]]\n",
            "1/1 [==============================] - 0s 87ms/step\n",
            "<PIL.Image.Image image mode=RGB size=256x256 at 0x7FCD67A32700>\n",
            "[[0.00000000e+00 1.00000000e+00 1.09504854e-35 0.00000000e+00]]\n",
            "1/1 [==============================] - 0s 147ms/step\n",
            "<PIL.Image.Image image mode=RGB size=256x256 at 0x7FCD718B4E50>\n",
            "[[0. 1. 0. 0.]]\n",
            "1/1 [==============================] - 0s 135ms/step\n",
            "<PIL.Image.Image image mode=RGB size=256x256 at 0x7FCD67A329A0>\n",
            "[[0. 1. 0. 0.]]\n"
          ]
        }
      ]
    },
    {
      "cell_type": "code",
      "source": [
        "print(validation_generator.class_indices)"
      ],
      "metadata": {
        "colab": {
          "base_uri": "https://localhost:8080/"
        },
        "id": "C034K69R92sm",
        "outputId": "48504244-3a95-4deb-f239-346a6c7af6aa"
      },
      "execution_count": 31,
      "outputs": [
        {
          "output_type": "stream",
          "name": "stdout",
          "text": [
            "{'architecture': 0, 'art and culture': 1, 'food': 2, 'travel and adventure': 3}\n"
          ]
        }
      ]
    },
    {
      "cell_type": "code",
      "source": [],
      "metadata": {
        "id": "2Q4vQqAM-SFI"
      },
      "execution_count": null,
      "outputs": []
    }
  ],
  "metadata": {
    "accelerator": "GPU",
    "colab": {
      "provenance": []
    },
    "gpuClass": "standard",
    "kernelspec": {
      "display_name": "Python 3",
      "name": "python3"
    },
    "language_info": {
      "name": "python"
    }
  },
  "nbformat": 4,
  "nbformat_minor": 0
}